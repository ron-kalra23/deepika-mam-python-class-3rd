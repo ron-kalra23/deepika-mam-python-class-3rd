{
 "cells": [
  {
   "cell_type": "markdown",
   "id": "a7b36174",
   "metadata": {},
   "source": [
    "Data Structures"
   ]
  },
  {
   "cell_type": "code",
   "execution_count": 1,
   "id": "48a96889",
   "metadata": {},
   "outputs": [],
   "source": [
    "list1 = ['mercury' , 'venus' , 'earth' , 'mars' , 'saturn' , 'jupiter']"
   ]
  },
  {
   "cell_type": "code",
   "execution_count": 2,
   "id": "9bf82d2d",
   "metadata": {},
   "outputs": [
    {
     "data": {
      "text/plain": [
       "['mercury', 'venus', 'earth', 'mars', 'saturn', 'jupiter']"
      ]
     },
     "execution_count": 2,
     "metadata": {},
     "output_type": "execute_result"
    }
   ],
   "source": [
    "list1"
   ]
  },
  {
   "cell_type": "code",
   "execution_count": 4,
   "id": "126dbc48",
   "metadata": {},
   "outputs": [
    {
     "data": {
      "text/plain": [
       "'mercury'"
      ]
     },
     "execution_count": 4,
     "metadata": {},
     "output_type": "execute_result"
    }
   ],
   "source": [
    "list1[0]"
   ]
  },
  {
   "cell_type": "code",
   "execution_count": 6,
   "id": "8635a0a7",
   "metadata": {},
   "outputs": [
    {
     "data": {
      "text/plain": [
       "['mercury', 'venus', 'earth', 'mars', 'saturn', 'jupiter']"
      ]
     },
     "execution_count": 6,
     "metadata": {},
     "output_type": "execute_result"
    }
   ],
   "source": [
    "list1[0:6]"
   ]
  },
  {
   "cell_type": "code",
   "execution_count": 8,
   "id": "fc4e7978",
   "metadata": {},
   "outputs": [
    {
     "data": {
      "text/plain": [
       "['mercury', 'venus', 'earth', 'mars', 'saturn', 'jupiter']"
      ]
     },
     "execution_count": 8,
     "metadata": {},
     "output_type": "execute_result"
    }
   ],
   "source": [
    "list1[:]"
   ]
  },
  {
   "cell_type": "markdown",
   "id": "cb2231f1",
   "metadata": {},
   "source": [
    "in list we do have neg indexing also."
   ]
  },
  {
   "cell_type": "code",
   "execution_count": 9,
   "id": "211990e3",
   "metadata": {},
   "outputs": [
    {
     "data": {
      "text/plain": [
       "list[-1]"
      ]
     },
     "execution_count": 9,
     "metadata": {},
     "output_type": "execute_result"
    }
   ],
   "source": [
    "list[-1]"
   ]
  },
  {
   "cell_type": "code",
   "execution_count": 10,
   "id": "5fec1388",
   "metadata": {},
   "outputs": [
    {
     "data": {
      "text/plain": [
       "list[-2]"
      ]
     },
     "execution_count": 10,
     "metadata": {},
     "output_type": "execute_result"
    }
   ],
   "source": [
    "list[-2]"
   ]
  },
  {
   "cell_type": "code",
   "execution_count": 12,
   "id": "4bf16307",
   "metadata": {},
   "outputs": [
    {
     "data": {
      "text/plain": [
       "'mercury'"
      ]
     },
     "execution_count": 12,
     "metadata": {},
     "output_type": "execute_result"
    }
   ],
   "source": [
    "list1[-6]"
   ]
  },
  {
   "cell_type": "code",
   "execution_count": 13,
   "id": "5b3087e7",
   "metadata": {},
   "outputs": [
    {
     "ename": "IndexError",
     "evalue": "list index out of range",
     "output_type": "error",
     "traceback": [
      "\u001b[1;31m---------------------------------------------------------------------------\u001b[0m",
      "\u001b[1;31mIndexError\u001b[0m                                Traceback (most recent call last)",
      "\u001b[1;32m~\\AppData\\Local\\Temp\\ipykernel_8992\\1282964993.py\u001b[0m in \u001b[0;36m<module>\u001b[1;34m\u001b[0m\n\u001b[1;32m----> 1\u001b[1;33m \u001b[0mlist1\u001b[0m\u001b[1;33m[\u001b[0m\u001b[1;33m-\u001b[0m\u001b[1;36m7\u001b[0m\u001b[1;33m]\u001b[0m\u001b[1;33m\u001b[0m\u001b[1;33m\u001b[0m\u001b[0m\n\u001b[0m",
      "\u001b[1;31mIndexError\u001b[0m: list index out of range"
     ]
    }
   ],
   "source": [
    "list1[-7] #index out of range "
   ]
  },
  {
   "cell_type": "code",
   "execution_count": 15,
   "id": "071b2469",
   "metadata": {},
   "outputs": [
    {
     "data": {
      "text/plain": [
       "'mars'"
      ]
     },
     "execution_count": 15,
     "metadata": {},
     "output_type": "execute_result"
    }
   ],
   "source": [
    "list1[-3]"
   ]
  },
  {
   "cell_type": "markdown",
   "id": "6b56e324",
   "metadata": {},
   "source": [
    "# Negative slicing "
   ]
  },
  {
   "cell_type": "code",
   "execution_count": 17,
   "id": "b82331f5",
   "metadata": {},
   "outputs": [
    {
     "data": {
      "text/plain": [
       "['mercury', 'venus', 'earth', 'mars', 'saturn', 'jupiter']"
      ]
     },
     "execution_count": 17,
     "metadata": {},
     "output_type": "execute_result"
    }
   ],
   "source": [
    "list1"
   ]
  },
  {
   "cell_type": "markdown",
   "id": "916e659f",
   "metadata": {},
   "source": [
    "#list1[start index:end index]"
   ]
  },
  {
   "cell_type": "code",
   "execution_count": 19,
   "id": "2589f085",
   "metadata": {},
   "outputs": [
    {
     "data": {
      "text/plain": [
       "['mars', 'saturn']"
      ]
     },
     "execution_count": 19,
     "metadata": {},
     "output_type": "execute_result"
    }
   ],
   "source": [
    "list1[-3:-1]"
   ]
  },
  {
   "cell_type": "code",
   "execution_count": 21,
   "id": "9b7e3b1e",
   "metadata": {},
   "outputs": [
    {
     "data": {
      "text/plain": [
       "[]"
      ]
     },
     "execution_count": 21,
     "metadata": {},
     "output_type": "execute_result"
    }
   ],
   "source": [
    "list1[-1:-3] # it will not work .in neg indexing it work like from left to right"
   ]
  },
  {
   "cell_type": "code",
   "execution_count": 23,
   "id": "7ed969c1",
   "metadata": {},
   "outputs": [
    {
     "data": {
      "text/plain": [
       "['mercury', 'venus', 'earth', 'mars', 'saturn', 'jupiter']"
      ]
     },
     "execution_count": 23,
     "metadata": {},
     "output_type": "execute_result"
    }
   ],
   "source": [
    "list1 # it will slice value from -5 to -1 , and will not work from -1 to -5"
   ]
  },
  {
   "cell_type": "code",
   "execution_count": 24,
   "id": "6fcf6f58",
   "metadata": {},
   "outputs": [
    {
     "data": {
      "text/plain": [
       "[]"
      ]
     },
     "execution_count": 24,
     "metadata": {},
     "output_type": "execute_result"
    }
   ],
   "source": [
    "list1[-1:-4]"
   ]
  },
  {
   "cell_type": "code",
   "execution_count": 26,
   "id": "13c2986c",
   "metadata": {},
   "outputs": [
    {
     "data": {
      "text/plain": [
       "['earth', 'mars', 'saturn']"
      ]
     },
     "execution_count": 26,
     "metadata": {},
     "output_type": "execute_result"
    }
   ],
   "source": [
    "list1[-4:-1]"
   ]
  },
  {
   "cell_type": "code",
   "execution_count": 28,
   "id": "1736bece",
   "metadata": {},
   "outputs": [
    {
     "data": {
      "text/plain": [
       "[]"
      ]
     },
     "execution_count": 28,
     "metadata": {},
     "output_type": "execute_result"
    }
   ],
   "source": [
    "list1[5:1] #same way it will work from right to left "
   ]
  },
  {
   "cell_type": "code",
   "execution_count": 29,
   "id": "aa38c10d",
   "metadata": {},
   "outputs": [
    {
     "data": {
      "text/plain": [
       "['mars']"
      ]
     },
     "execution_count": 29,
     "metadata": {},
     "output_type": "execute_result"
    }
   ],
   "source": [
    "list1[-3:-2]"
   ]
  },
  {
   "cell_type": "code",
   "execution_count": 30,
   "id": "b218df5f",
   "metadata": {},
   "outputs": [
    {
     "data": {
      "text/plain": [
       "[]"
      ]
     },
     "execution_count": 30,
     "metadata": {},
     "output_type": "execute_result"
    }
   ],
   "source": [
    "list1[-2:-2]"
   ]
  },
  {
   "cell_type": "code",
   "execution_count": 31,
   "id": "255dd4ff",
   "metadata": {},
   "outputs": [
    {
     "data": {
      "text/plain": [
       "['earth', 'mars', 'saturn']"
      ]
     },
     "execution_count": 31,
     "metadata": {},
     "output_type": "execute_result"
    }
   ],
   "source": [
    "list1[-4:-1]"
   ]
  },
  {
   "cell_type": "code",
   "execution_count": 32,
   "id": "0498da06",
   "metadata": {},
   "outputs": [
    {
     "data": {
      "text/plain": [
       "['venus', 'earth', 'mars', 'saturn']"
      ]
     },
     "execution_count": 32,
     "metadata": {},
     "output_type": "execute_result"
    }
   ],
   "source": [
    "list1[-5:-1]"
   ]
  },
  {
   "cell_type": "code",
   "execution_count": 33,
   "id": "cb7ad4ab",
   "metadata": {},
   "outputs": [
    {
     "data": {
      "text/plain": [
       "['mercury', 'venus', 'earth', 'mars', 'saturn']"
      ]
     },
     "execution_count": 33,
     "metadata": {},
     "output_type": "execute_result"
    }
   ],
   "source": [
    "list1[:-1]"
   ]
  },
  {
   "cell_type": "code",
   "execution_count": 34,
   "id": "38406a36",
   "metadata": {},
   "outputs": [
    {
     "data": {
      "text/plain": [
       "['mercury', 'venus', 'earth', 'mars', 'saturn', 'jupiter']"
      ]
     },
     "execution_count": 34,
     "metadata": {},
     "output_type": "execute_result"
    }
   ],
   "source": [
    "list1"
   ]
  },
  {
   "cell_type": "code",
   "execution_count": 35,
   "id": "9c8d4663",
   "metadata": {},
   "outputs": [],
   "source": [
    "# the above colon are basically representing range here."
   ]
  },
  {
   "cell_type": "code",
   "execution_count": 36,
   "id": "c24dca17",
   "metadata": {},
   "outputs": [
    {
     "data": {
      "text/plain": [
       "['banana',\n",
       " 'mango',\n",
       " 'kiwi',\n",
       " 'dragon fruit',\n",
       " 'orange',\n",
       " 'strawberry',\n",
       " 'grapes ',\n",
       " 'apple']"
      ]
     },
     "execution_count": 36,
     "metadata": {},
     "output_type": "execute_result"
    }
   ],
   "source": [
    "fruitlist = ['banana' , 'mango' , 'kiwi' , 'dragon fruit' , 'orange' , 'strawberry' , 'grapes ' , 'apple']\n",
    "fruitlist"
   ]
  },
  {
   "cell_type": "markdown",
   "id": "75bb59bd",
   "metadata": {},
   "source": [
    "we want to add another fruit to list - append"
   ]
  },
  {
   "cell_type": "markdown",
   "id": "a3297a1b",
   "metadata": {},
   "source": [
    "we want to insert more data - insert"
   ]
  },
  {
   "cell_type": "markdown",
   "id": "2a9cc3e7",
   "metadata": {},
   "source": [
    "we want to sort operation - sort"
   ]
  },
  {
   "cell_type": "markdown",
   "id": "ecceb5fd",
   "metadata": {},
   "source": [
    "we want to remove particular data - remove"
   ]
  },
  {
   "cell_type": "markdown",
   "id": "ec27a165",
   "metadata": {},
   "source": [
    "and many more let's us understand those"
   ]
  },
  {
   "cell_type": "code",
   "execution_count": 37,
   "id": "d088a9d1",
   "metadata": {},
   "outputs": [],
   "source": [
    "fruitlist.append('pineapple')"
   ]
  },
  {
   "cell_type": "code",
   "execution_count": 38,
   "id": "0956da2b",
   "metadata": {},
   "outputs": [
    {
     "data": {
      "text/plain": [
       "['banana',\n",
       " 'mango',\n",
       " 'kiwi',\n",
       " 'dragon fruit',\n",
       " 'orange',\n",
       " 'strawberry',\n",
       " 'grapes ',\n",
       " 'apple',\n",
       " 'pineapple']"
      ]
     },
     "execution_count": 38,
     "metadata": {},
     "output_type": "execute_result"
    }
   ],
   "source": [
    "fruitlist #pineapple has been added"
   ]
  },
  {
   "cell_type": "code",
   "execution_count": 39,
   "id": "55d5bf66",
   "metadata": {},
   "outputs": [
    {
     "data": {
      "text/plain": [
       "9"
      ]
     },
     "execution_count": 39,
     "metadata": {},
     "output_type": "execute_result"
    }
   ],
   "source": [
    "len(fruitlist)"
   ]
  },
  {
   "cell_type": "code",
   "execution_count": 40,
   "id": "2542ab5d",
   "metadata": {},
   "outputs": [],
   "source": [
    "fruitlist.append(\"blackberry\")"
   ]
  },
  {
   "cell_type": "code",
   "execution_count": 41,
   "id": "8d5d830b",
   "metadata": {},
   "outputs": [
    {
     "data": {
      "text/plain": [
       "['banana',\n",
       " 'mango',\n",
       " 'kiwi',\n",
       " 'dragon fruit',\n",
       " 'orange',\n",
       " 'strawberry',\n",
       " 'grapes ',\n",
       " 'apple',\n",
       " 'pineapple',\n",
       " 'blackberry']"
      ]
     },
     "execution_count": 41,
     "metadata": {},
     "output_type": "execute_result"
    }
   ],
   "source": [
    "fruitlist"
   ]
  },
  {
   "cell_type": "code",
   "execution_count": 42,
   "id": "88755bfa",
   "metadata": {},
   "outputs": [
    {
     "data": {
      "text/plain": [
       "'banana'"
      ]
     },
     "execution_count": 42,
     "metadata": {},
     "output_type": "execute_result"
    }
   ],
   "source": [
    "fruitlist[0]"
   ]
  },
  {
   "cell_type": "code",
   "execution_count": 43,
   "id": "29716fc7",
   "metadata": {},
   "outputs": [
    {
     "data": {
      "text/plain": [
       "'dragon fruit'"
      ]
     },
     "execution_count": 43,
     "metadata": {},
     "output_type": "execute_result"
    }
   ],
   "source": [
    "fruitlist[3]"
   ]
  },
  {
   "cell_type": "code",
   "execution_count": 44,
   "id": "f2f8b6dd",
   "metadata": {},
   "outputs": [
    {
     "data": {
      "text/plain": [
       "['dragon fruit', 'orange', 'strawberry', 'grapes ', 'apple']"
      ]
     },
     "execution_count": 44,
     "metadata": {},
     "output_type": "execute_result"
    }
   ],
   "source": [
    "fruitlist[-7:-2]"
   ]
  },
  {
   "cell_type": "code",
   "execution_count": 45,
   "id": "433b2812",
   "metadata": {},
   "outputs": [
    {
     "data": {
      "text/plain": [
       "['banana',\n",
       " 'mango',\n",
       " 'kiwi',\n",
       " 'dragon fruit',\n",
       " 'orange',\n",
       " 'strawberry',\n",
       " 'grapes ',\n",
       " 'apple',\n",
       " 'pineapple',\n",
       " 'blackberry']"
      ]
     },
     "execution_count": 45,
     "metadata": {},
     "output_type": "execute_result"
    }
   ],
   "source": [
    "fruitlist"
   ]
  },
  {
   "cell_type": "code",
   "execution_count": 46,
   "id": "dcf3a594",
   "metadata": {},
   "outputs": [
    {
     "data": {
      "text/plain": [
       "['dragon fruit',\n",
       " 'orange',\n",
       " 'strawberry',\n",
       " 'grapes ',\n",
       " 'apple',\n",
       " 'pineapple',\n",
       " 'blackberry']"
      ]
     },
     "execution_count": 46,
     "metadata": {},
     "output_type": "execute_result"
    }
   ],
   "source": [
    "fruitlist[-7:]"
   ]
  },
  {
   "cell_type": "code",
   "execution_count": 47,
   "id": "ccd2526f",
   "metadata": {},
   "outputs": [],
   "source": [
    "#we can do positive and neg slicing or indexing with list"
   ]
  },
  {
   "cell_type": "code",
   "execution_count": 48,
   "id": "27bcbc30",
   "metadata": {},
   "outputs": [],
   "source": [
    "fruitlist.sort()"
   ]
  },
  {
   "cell_type": "code",
   "execution_count": 49,
   "id": "dd60d817",
   "metadata": {},
   "outputs": [
    {
     "data": {
      "text/plain": [
       "['apple',\n",
       " 'banana',\n",
       " 'blackberry',\n",
       " 'dragon fruit',\n",
       " 'grapes ',\n",
       " 'kiwi',\n",
       " 'mango',\n",
       " 'orange',\n",
       " 'pineapple',\n",
       " 'strawberry']"
      ]
     },
     "execution_count": 49,
     "metadata": {},
     "output_type": "execute_result"
    }
   ],
   "source": [
    "fruitlist  #it will alphabatically sort the data "
   ]
  },
  {
   "cell_type": "code",
   "execution_count": 52,
   "id": "4dbda7b4",
   "metadata": {},
   "outputs": [],
   "source": [
    "fruitlist.reverse() #means z to A"
   ]
  },
  {
   "cell_type": "code",
   "execution_count": 53,
   "id": "6f0b1dcd",
   "metadata": {},
   "outputs": [
    {
     "data": {
      "text/plain": [
       "['strawberry',\n",
       " 'pineapple',\n",
       " 'orange',\n",
       " 'mango',\n",
       " 'kiwi',\n",
       " 'grapes ',\n",
       " 'dragon fruit',\n",
       " 'blackberry',\n",
       " 'banana',\n",
       " 'apple']"
      ]
     },
     "execution_count": 53,
     "metadata": {},
     "output_type": "execute_result"
    }
   ],
   "source": [
    "fruitlist"
   ]
  },
  {
   "cell_type": "code",
   "execution_count": 54,
   "id": "910e7ed0",
   "metadata": {},
   "outputs": [],
   "source": [
    "fruitlist.sort()"
   ]
  },
  {
   "cell_type": "code",
   "execution_count": 55,
   "id": "f885d210",
   "metadata": {},
   "outputs": [],
   "source": [
    "#we can not do sort function with hetrogeneous data"
   ]
  },
  {
   "cell_type": "code",
   "execution_count": 58,
   "id": "731f7211",
   "metadata": {},
   "outputs": [
    {
     "data": {
      "text/plain": [
       "['apple',\n",
       " 'banana',\n",
       " 'blackberry',\n",
       " 'dragon fruit',\n",
       " 'grapes ',\n",
       " 'kiwi',\n",
       " 'mango',\n",
       " 'orange',\n",
       " 'pineapple',\n",
       " 'strawberry']"
      ]
     },
     "execution_count": 58,
     "metadata": {},
     "output_type": "execute_result"
    }
   ],
   "source": [
    "fruitlist"
   ]
  },
  {
   "cell_type": "code",
   "execution_count": 59,
   "id": "76ceaaf9",
   "metadata": {},
   "outputs": [],
   "source": [
    "fruitlist[2] = 'chiku'   #this is insert operation "
   ]
  },
  {
   "cell_type": "code",
   "execution_count": 60,
   "id": "444bceff",
   "metadata": {},
   "outputs": [
    {
     "data": {
      "text/plain": [
       "['apple',\n",
       " 'banana',\n",
       " 'chiku',\n",
       " 'dragon fruit',\n",
       " 'grapes ',\n",
       " 'kiwi',\n",
       " 'mango',\n",
       " 'orange',\n",
       " 'pineapple',\n",
       " 'strawberry']"
      ]
     },
     "execution_count": 60,
     "metadata": {},
     "output_type": "execute_result"
    }
   ],
   "source": [
    "fruitlist #this insert operaton will replace the data with our output "
   ]
  },
  {
   "cell_type": "code",
   "execution_count": 62,
   "id": "649d1f57",
   "metadata": {},
   "outputs": [],
   "source": [
    "#another method of inserting  #this insert operation will not replace instead it add the data and move forward other characters\n",
    "fruitlist.insert(1 , 'papaya')"
   ]
  },
  {
   "cell_type": "code",
   "execution_count": 63,
   "id": "f537da5a",
   "metadata": {},
   "outputs": [
    {
     "data": {
      "text/plain": [
       "['apple',\n",
       " 'papaya',\n",
       " 'banana',\n",
       " 'chiku',\n",
       " 'dragon fruit',\n",
       " 'grapes ',\n",
       " 'kiwi',\n",
       " 'mango',\n",
       " 'orange',\n",
       " 'pineapple',\n",
       " 'strawberry']"
      ]
     },
     "execution_count": 63,
     "metadata": {},
     "output_type": "execute_result"
    }
   ],
   "source": [
    "fruitlist"
   ]
  },
  {
   "cell_type": "code",
   "execution_count": 64,
   "id": "ab18784d",
   "metadata": {},
   "outputs": [],
   "source": [
    "#index method "
   ]
  },
  {
   "cell_type": "code",
   "execution_count": 65,
   "id": "98e21283",
   "metadata": {},
   "outputs": [
    {
     "data": {
      "text/plain": [
       "6"
      ]
     },
     "execution_count": 65,
     "metadata": {},
     "output_type": "execute_result"
    }
   ],
   "source": [
    "fruitlist.index('kiwi')  #to know the particular data index "
   ]
  },
  {
   "cell_type": "code",
   "execution_count": 66,
   "id": "692f1650",
   "metadata": {},
   "outputs": [],
   "source": [
    "#append method allowed us to add data at the end while insert help us to insert data at any particular location"
   ]
  },
  {
   "cell_type": "code",
   "execution_count": 67,
   "id": "72095f2f",
   "metadata": {},
   "outputs": [
    {
     "data": {
      "text/plain": [
       "11"
      ]
     },
     "execution_count": 67,
     "metadata": {},
     "output_type": "execute_result"
    }
   ],
   "source": [
    "len(fruitlist)"
   ]
  },
  {
   "cell_type": "code",
   "execution_count": 68,
   "id": "109d5223",
   "metadata": {},
   "outputs": [
    {
     "data": {
      "text/plain": [
       "'strawberry'"
      ]
     },
     "execution_count": 68,
     "metadata": {},
     "output_type": "execute_result"
    }
   ],
   "source": [
    "#let us remove some data \n",
    "fruitlist.pop()  #by degfault it will remove data from last"
   ]
  },
  {
   "cell_type": "code",
   "execution_count": 69,
   "id": "1b8506b9",
   "metadata": {},
   "outputs": [
    {
     "data": {
      "text/plain": [
       "['apple',\n",
       " 'papaya',\n",
       " 'banana',\n",
       " 'chiku',\n",
       " 'dragon fruit',\n",
       " 'grapes ',\n",
       " 'kiwi',\n",
       " 'mango',\n",
       " 'orange',\n",
       " 'pineapple']"
      ]
     },
     "execution_count": 69,
     "metadata": {},
     "output_type": "execute_result"
    }
   ],
   "source": [
    "fruitlist"
   ]
  },
  {
   "cell_type": "code",
   "execution_count": 70,
   "id": "0ea5f264",
   "metadata": {},
   "outputs": [
    {
     "data": {
      "text/plain": [
       "10"
      ]
     },
     "execution_count": 70,
     "metadata": {},
     "output_type": "execute_result"
    }
   ],
   "source": [
    "len(fruitlist)"
   ]
  },
  {
   "cell_type": "code",
   "execution_count": 71,
   "id": "d1e750dc",
   "metadata": {},
   "outputs": [
    {
     "data": {
      "text/plain": [
       "'pineapple'"
      ]
     },
     "execution_count": 71,
     "metadata": {},
     "output_type": "execute_result"
    }
   ],
   "source": [
    "fruitlist.pop()"
   ]
  },
  {
   "cell_type": "code",
   "execution_count": 72,
   "id": "e195ab1d",
   "metadata": {},
   "outputs": [
    {
     "data": {
      "text/plain": [
       "['apple',\n",
       " 'papaya',\n",
       " 'banana',\n",
       " 'chiku',\n",
       " 'dragon fruit',\n",
       " 'grapes ',\n",
       " 'kiwi',\n",
       " 'mango',\n",
       " 'orange']"
      ]
     },
     "execution_count": 72,
     "metadata": {},
     "output_type": "execute_result"
    }
   ],
   "source": [
    "fruitlist"
   ]
  },
  {
   "cell_type": "code",
   "execution_count": 73,
   "id": "087445f4",
   "metadata": {},
   "outputs": [
    {
     "data": {
      "text/plain": [
       "'orange'"
      ]
     },
     "execution_count": 73,
     "metadata": {},
     "output_type": "execute_result"
    }
   ],
   "source": [
    "fruitlist.pop()"
   ]
  },
  {
   "cell_type": "code",
   "execution_count": 74,
   "id": "919a546f",
   "metadata": {},
   "outputs": [
    {
     "data": {
      "text/plain": [
       "'chiku'"
      ]
     },
     "execution_count": 74,
     "metadata": {},
     "output_type": "execute_result"
    }
   ],
   "source": [
    "# if we want to cut any particular index data\n",
    "fruitlist.pop(3)"
   ]
  },
  {
   "cell_type": "code",
   "execution_count": 76,
   "id": "29da5d64",
   "metadata": {},
   "outputs": [
    {
     "data": {
      "text/plain": [
       "['apple', 'papaya', 'banana', 'dragon fruit', 'grapes ', 'kiwi', 'mango']"
      ]
     },
     "execution_count": 76,
     "metadata": {},
     "output_type": "execute_result"
    }
   ],
   "source": [
    "fruitlist"
   ]
  },
  {
   "cell_type": "code",
   "execution_count": 77,
   "id": "dbc4e4c2",
   "metadata": {},
   "outputs": [],
   "source": [
    "# pop will delete data"
   ]
  },
  {
   "cell_type": "code",
   "execution_count": 78,
   "id": "c2c4aa1c",
   "metadata": {},
   "outputs": [],
   "source": [
    "#remove operation : in this operation we will give the name directly "
   ]
  },
  {
   "cell_type": "code",
   "execution_count": 80,
   "id": "4fdd0c27",
   "metadata": {},
   "outputs": [],
   "source": [
    "fruitlist.remove('apple')"
   ]
  },
  {
   "cell_type": "code",
   "execution_count": 81,
   "id": "f63505a3",
   "metadata": {},
   "outputs": [
    {
     "data": {
      "text/plain": [
       "['papaya', 'banana', 'dragon fruit', 'grapes ', 'kiwi', 'mango']"
      ]
     },
     "execution_count": 81,
     "metadata": {},
     "output_type": "execute_result"
    }
   ],
   "source": [
    "fruitlist"
   ]
  },
  {
   "cell_type": "code",
   "execution_count": 83,
   "id": "ad88a579",
   "metadata": {},
   "outputs": [
    {
     "ename": "TypeError",
     "evalue": "list.remove() takes exactly one argument (2 given)",
     "output_type": "error",
     "traceback": [
      "\u001b[1;31m---------------------------------------------------------------------------\u001b[0m",
      "\u001b[1;31mTypeError\u001b[0m                                 Traceback (most recent call last)",
      "\u001b[1;32m~\\AppData\\Local\\Temp\\ipykernel_8992\\109689193.py\u001b[0m in \u001b[0;36m<module>\u001b[1;34m\u001b[0m\n\u001b[1;32m----> 1\u001b[1;33m \u001b[0mfruitlist\u001b[0m\u001b[1;33m.\u001b[0m\u001b[0mremove\u001b[0m\u001b[1;33m(\u001b[0m\u001b[1;34m'mango'\u001b[0m \u001b[1;33m,\u001b[0m \u001b[1;34m'dragon fruit'\u001b[0m\u001b[1;33m)\u001b[0m\u001b[1;33m\u001b[0m\u001b[1;33m\u001b[0m\u001b[0m\n\u001b[0m",
      "\u001b[1;31mTypeError\u001b[0m: list.remove() takes exactly one argument (2 given)"
     ]
    }
   ],
   "source": [
    "fruitlist.remove('mango' , 'dragon fruit') #remove will take single element"
   ]
  },
  {
   "cell_type": "code",
   "execution_count": 84,
   "id": "7b1d461b",
   "metadata": {},
   "outputs": [
    {
     "data": {
      "text/plain": [
       "6"
      ]
     },
     "execution_count": 84,
     "metadata": {},
     "output_type": "execute_result"
    }
   ],
   "source": [
    "len(fruitlist)"
   ]
  },
  {
   "cell_type": "code",
   "execution_count": 85,
   "id": "3bbc071f",
   "metadata": {},
   "outputs": [],
   "source": [
    "#pop will remove index data and remove will delete the value data  , both will delete one data at a time "
   ]
  },
  {
   "cell_type": "code",
   "execution_count": 86,
   "id": "93f4f6ec",
   "metadata": {},
   "outputs": [],
   "source": [
    "del fruitlist #it weill remove the entire list"
   ]
  },
  {
   "cell_type": "code",
   "execution_count": 87,
   "id": "2715c7e7",
   "metadata": {},
   "outputs": [
    {
     "ename": "NameError",
     "evalue": "name 'fruitlist' is not defined",
     "output_type": "error",
     "traceback": [
      "\u001b[1;31m---------------------------------------------------------------------------\u001b[0m",
      "\u001b[1;31mNameError\u001b[0m                                 Traceback (most recent call last)",
      "\u001b[1;32m~\\AppData\\Local\\Temp\\ipykernel_8992\\83626785.py\u001b[0m in \u001b[0;36m<module>\u001b[1;34m\u001b[0m\n\u001b[1;32m----> 1\u001b[1;33m \u001b[0mfruitlist\u001b[0m\u001b[1;33m\u001b[0m\u001b[1;33m\u001b[0m\u001b[0m\n\u001b[0m",
      "\u001b[1;31mNameError\u001b[0m: name 'fruitlist' is not defined"
     ]
    }
   ],
   "source": [
    "fruitlist  # because niow fruitlist has been deleted now\n"
   ]
  },
  {
   "cell_type": "code",
   "execution_count": 88,
   "id": "26cad711",
   "metadata": {},
   "outputs": [],
   "source": [
    "numlist = [45,44,26,77,34,98 ,94,56,22,16,78]"
   ]
  },
  {
   "cell_type": "code",
   "execution_count": 90,
   "id": "69efb8a2",
   "metadata": {},
   "outputs": [
    {
     "data": {
      "text/plain": [
       "78"
      ]
     },
     "execution_count": 90,
     "metadata": {},
     "output_type": "execute_result"
    }
   ],
   "source": [
    "numlist.pop()"
   ]
  },
  {
   "cell_type": "code",
   "execution_count": 91,
   "id": "0c7a881c",
   "metadata": {},
   "outputs": [
    {
     "data": {
      "text/plain": [
       "[45, 44, 26, 77, 34, 98, 94, 56, 22, 16]"
      ]
     },
     "execution_count": 91,
     "metadata": {},
     "output_type": "execute_result"
    }
   ],
   "source": [
    "numlist"
   ]
  },
  {
   "cell_type": "code",
   "execution_count": 92,
   "id": "2828f689",
   "metadata": {},
   "outputs": [
    {
     "data": {
      "text/plain": [
       "77"
      ]
     },
     "execution_count": 92,
     "metadata": {},
     "output_type": "execute_result"
    }
   ],
   "source": [
    "numlist.pop(3)"
   ]
  },
  {
   "cell_type": "code",
   "execution_count": 93,
   "id": "81f4eee4",
   "metadata": {},
   "outputs": [
    {
     "data": {
      "text/plain": [
       "[45, 44, 26, 34, 98, 94, 56, 22, 16]"
      ]
     },
     "execution_count": 93,
     "metadata": {},
     "output_type": "execute_result"
    }
   ],
   "source": [
    "numlist"
   ]
  },
  {
   "cell_type": "code",
   "execution_count": 97,
   "id": "9a2e1ac0",
   "metadata": {},
   "outputs": [
    {
     "data": {
      "text/plain": [
       "[45, 44, 26, 98, 94, 56, 22, 16]"
      ]
     },
     "execution_count": 97,
     "metadata": {},
     "output_type": "execute_result"
    }
   ],
   "source": [
    "numlist"
   ]
  },
  {
   "cell_type": "code",
   "execution_count": 98,
   "id": "70a4d6cd",
   "metadata": {},
   "outputs": [],
   "source": [
    "numlist.append(22)"
   ]
  },
  {
   "cell_type": "code",
   "execution_count": 99,
   "id": "22c94344",
   "metadata": {},
   "outputs": [],
   "source": [
    "numlist.append(56)"
   ]
  },
  {
   "cell_type": "code",
   "execution_count": 100,
   "id": "3b593b81",
   "metadata": {},
   "outputs": [
    {
     "data": {
      "text/plain": [
       "[45, 44, 26, 98, 94, 56, 22, 16, 22, 56]"
      ]
     },
     "execution_count": 100,
     "metadata": {},
     "output_type": "execute_result"
    }
   ],
   "source": [
    "numlist"
   ]
  },
  {
   "cell_type": "code",
   "execution_count": 101,
   "id": "dbe9cc96",
   "metadata": {},
   "outputs": [],
   "source": [
    "numlist.remove(22) #it will remove the first occurance of data(index wise)"
   ]
  },
  {
   "cell_type": "code",
   "execution_count": 102,
   "id": "0c551c8e",
   "metadata": {},
   "outputs": [
    {
     "data": {
      "text/plain": [
       "[45, 44, 26, 98, 94, 56, 16, 22, 56]"
      ]
     },
     "execution_count": 102,
     "metadata": {},
     "output_type": "execute_result"
    }
   ],
   "source": [
    "numlist"
   ]
  },
  {
   "cell_type": "code",
   "execution_count": 103,
   "id": "aec1fa16",
   "metadata": {},
   "outputs": [],
   "source": [
    "veglist = ['onion' , 'tomato' , 'chilli']"
   ]
  },
  {
   "cell_type": "code",
   "execution_count": 106,
   "id": "b19c5804",
   "metadata": {},
   "outputs": [],
   "source": [
    "veglist.append('potato')"
   ]
  },
  {
   "cell_type": "code",
   "execution_count": 108,
   "id": "13f66beb",
   "metadata": {},
   "outputs": [
    {
     "data": {
      "text/plain": [
       "['onion', 'tomato', 'chilli', 'potato']"
      ]
     },
     "execution_count": 108,
     "metadata": {},
     "output_type": "execute_result"
    }
   ],
   "source": [
    "veglist"
   ]
  },
  {
   "cell_type": "code",
   "execution_count": 109,
   "id": "5fd48b66",
   "metadata": {},
   "outputs": [],
   "source": [
    "veglist.insert(2 , 'corriander')"
   ]
  },
  {
   "cell_type": "code",
   "execution_count": 110,
   "id": "29883b56",
   "metadata": {},
   "outputs": [
    {
     "data": {
      "text/plain": [
       "['onion', 'tomato', 'corriander', 'chilli', 'potato']"
      ]
     },
     "execution_count": 110,
     "metadata": {},
     "output_type": "execute_result"
    }
   ],
   "source": [
    "veglist"
   ]
  },
  {
   "cell_type": "code",
   "execution_count": 111,
   "id": "a0cba6d9",
   "metadata": {},
   "outputs": [],
   "source": [
    "veglist.extend(['lemon' , 'cabbage' , 'ladyfinger']) #extend operation will allowed  us to add more than one data"
   ]
  },
  {
   "cell_type": "code",
   "execution_count": 112,
   "id": "98867e36",
   "metadata": {},
   "outputs": [
    {
     "data": {
      "text/plain": [
       "['onion',\n",
       " 'tomato',\n",
       " 'corriander',\n",
       " 'chilli',\n",
       " 'potato',\n",
       " 'lemon',\n",
       " 'cabbage',\n",
       " 'ladyfinger']"
      ]
     },
     "execution_count": 112,
     "metadata": {},
     "output_type": "execute_result"
    }
   ],
   "source": [
    "veglist"
   ]
  },
  {
   "cell_type": "code",
   "execution_count": 113,
   "id": "c307407e",
   "metadata": {},
   "outputs": [],
   "source": [
    "veglist.remove('ladyfinger')"
   ]
  },
  {
   "cell_type": "code",
   "execution_count": 114,
   "id": "3b9c0604",
   "metadata": {},
   "outputs": [
    {
     "data": {
      "text/plain": [
       "['onion', 'tomato', 'corriander', 'chilli', 'potato', 'lemon', 'cabbage']"
      ]
     },
     "execution_count": 114,
     "metadata": {},
     "output_type": "execute_result"
    }
   ],
   "source": [
    "veglist"
   ]
  },
  {
   "cell_type": "code",
   "execution_count": 115,
   "id": "5d71cbf6",
   "metadata": {},
   "outputs": [],
   "source": [
    "list2 = [56,66,74,23,23,77,34,13,67,34,56]"
   ]
  },
  {
   "cell_type": "code",
   "execution_count": 116,
   "id": "6bca28d8",
   "metadata": {},
   "outputs": [
    {
     "data": {
      "text/plain": [
       "11"
      ]
     },
     "execution_count": 116,
     "metadata": {},
     "output_type": "execute_result"
    }
   ],
   "source": [
    "len(list2)"
   ]
  },
  {
   "cell_type": "code",
   "execution_count": 117,
   "id": "c5329663",
   "metadata": {},
   "outputs": [],
   "source": [
    "list2.remove(23) #it will delete the first 23"
   ]
  },
  {
   "cell_type": "code",
   "execution_count": 118,
   "id": "7fbe2f5b",
   "metadata": {},
   "outputs": [
    {
     "data": {
      "text/plain": [
       "[56, 66, 74, 23, 77, 34, 13, 67, 34, 56]"
      ]
     },
     "execution_count": 118,
     "metadata": {},
     "output_type": "execute_result"
    }
   ],
   "source": [
    "list2"
   ]
  },
  {
   "cell_type": "code",
   "execution_count": 119,
   "id": "39bdf731",
   "metadata": {},
   "outputs": [
    {
     "data": {
      "text/plain": [
       "'corriander'"
      ]
     },
     "execution_count": 119,
     "metadata": {},
     "output_type": "execute_result"
    }
   ],
   "source": [
    "veglist.pop(2)"
   ]
  },
  {
   "cell_type": "code",
   "execution_count": 120,
   "id": "8420dcfe",
   "metadata": {},
   "outputs": [],
   "source": [
    "veglist.remove('tomato')"
   ]
  },
  {
   "cell_type": "code",
   "execution_count": 121,
   "id": "b15801a1",
   "metadata": {},
   "outputs": [
    {
     "data": {
      "text/plain": [
       "['onion', 'chilli', 'potato', 'lemon', 'cabbage']"
      ]
     },
     "execution_count": 121,
     "metadata": {},
     "output_type": "execute_result"
    }
   ],
   "source": [
    "veglist"
   ]
  },
  {
   "cell_type": "code",
   "execution_count": 122,
   "id": "70fa5f1f",
   "metadata": {},
   "outputs": [],
   "source": [
    "veglist[1] = 'tomato' # reoplace the first index item with tomato"
   ]
  },
  {
   "cell_type": "code",
   "execution_count": 123,
   "id": "07c1dfd7",
   "metadata": {},
   "outputs": [
    {
     "data": {
      "text/plain": [
       "['onion', 'tomato', 'potato', 'lemon', 'cabbage']"
      ]
     },
     "execution_count": 123,
     "metadata": {},
     "output_type": "execute_result"
    }
   ],
   "source": [
    "#let's check\n",
    "veglist"
   ]
  },
  {
   "cell_type": "code",
   "execution_count": 124,
   "id": "67fc8bae",
   "metadata": {},
   "outputs": [
    {
     "data": {
      "text/plain": [
       "['onion', 'tomato', 'potato', 'lemon', 'cabbage']"
      ]
     },
     "execution_count": 124,
     "metadata": {},
     "output_type": "execute_result"
    }
   ],
   "source": [
    "veglist"
   ]
  },
  {
   "cell_type": "code",
   "execution_count": 125,
   "id": "7634bd8b",
   "metadata": {},
   "outputs": [],
   "source": [
    "veglist.append(\"corrriander\")"
   ]
  },
  {
   "cell_type": "code",
   "execution_count": 126,
   "id": "7d31e5bb",
   "metadata": {},
   "outputs": [
    {
     "data": {
      "text/plain": [
       "['onion', 'tomato', 'potato', 'lemon', 'cabbage', 'corrriander']"
      ]
     },
     "execution_count": 126,
     "metadata": {},
     "output_type": "execute_result"
    }
   ],
   "source": [
    "veglist"
   ]
  },
  {
   "cell_type": "code",
   "execution_count": 127,
   "id": "0b234608",
   "metadata": {},
   "outputs": [],
   "source": [
    "veglist[2] = 'carrot'"
   ]
  },
  {
   "cell_type": "code",
   "execution_count": 128,
   "id": "be7c7963",
   "metadata": {},
   "outputs": [
    {
     "data": {
      "text/plain": [
       "['onion', 'tomato', 'carrot', 'lemon', 'cabbage', 'corrriander']"
      ]
     },
     "execution_count": 128,
     "metadata": {},
     "output_type": "execute_result"
    }
   ],
   "source": [
    "veglist"
   ]
  },
  {
   "cell_type": "code",
   "execution_count": 130,
   "id": "6fee581d",
   "metadata": {},
   "outputs": [],
   "source": [
    "veglist[0] = 'Brocoli'\n"
   ]
  },
  {
   "cell_type": "code",
   "execution_count": 131,
   "id": "e5eca05e",
   "metadata": {},
   "outputs": [
    {
     "data": {
      "text/plain": [
       "['Brocoli', 'tomato', 'carrot', 'lemon', 'cabbage', 'corrriander']"
      ]
     },
     "execution_count": 131,
     "metadata": {},
     "output_type": "execute_result"
    }
   ],
   "source": [
    "veglist"
   ]
  },
  {
   "cell_type": "code",
   "execution_count": 132,
   "id": "3048a5dd",
   "metadata": {},
   "outputs": [
    {
     "data": {
      "text/plain": [
       "['Brocoli', 'tomato', 'carrot', 'lemon', 'cabbage', 'corrriander']"
      ]
     },
     "execution_count": 132,
     "metadata": {},
     "output_type": "execute_result"
    }
   ],
   "source": [
    "veglist"
   ]
  },
  {
   "cell_type": "code",
   "execution_count": 133,
   "id": "6a304746",
   "metadata": {},
   "outputs": [
    {
     "data": {
      "text/plain": [
       "'corrriander'"
      ]
     },
     "execution_count": 133,
     "metadata": {},
     "output_type": "execute_result"
    }
   ],
   "source": [
    "veglist.pop()"
   ]
  },
  {
   "cell_type": "code",
   "execution_count": 134,
   "id": "ad692f5f",
   "metadata": {},
   "outputs": [],
   "source": [
    "veglist.clear()"
   ]
  },
  {
   "cell_type": "code",
   "execution_count": 136,
   "id": "ae507faa",
   "metadata": {},
   "outputs": [
    {
     "data": {
      "text/plain": [
       "[]"
      ]
     },
     "execution_count": 136,
     "metadata": {},
     "output_type": "execute_result"
    }
   ],
   "source": [
    "veglist #3 it will clear the list while delete operation will delete the whole list."
   ]
  },
  {
   "cell_type": "code",
   "execution_count": 137,
   "id": "a7f9cf1d",
   "metadata": {},
   "outputs": [],
   "source": [
    "veglist.extend(['cabbage' , 'lemon'])"
   ]
  },
  {
   "cell_type": "code",
   "execution_count": 138,
   "id": "aa02ed92",
   "metadata": {},
   "outputs": [
    {
     "data": {
      "text/plain": [
       "['cabbage', 'lemon']"
      ]
     },
     "execution_count": 138,
     "metadata": {},
     "output_type": "execute_result"
    }
   ],
   "source": [
    "veglist"
   ]
  },
  {
   "cell_type": "code",
   "execution_count": 139,
   "id": "8740c39e",
   "metadata": {},
   "outputs": [],
   "source": [
    "del veglist"
   ]
  },
  {
   "cell_type": "code",
   "execution_count": 140,
   "id": "c20b5ad8",
   "metadata": {},
   "outputs": [
    {
     "ename": "NameError",
     "evalue": "name 'veglist' is not defined",
     "output_type": "error",
     "traceback": [
      "\u001b[1;31m---------------------------------------------------------------------------\u001b[0m",
      "\u001b[1;31mNameError\u001b[0m                                 Traceback (most recent call last)",
      "\u001b[1;32m~\\AppData\\Local\\Temp\\ipykernel_8992\\4104946772.py\u001b[0m in \u001b[0;36m<module>\u001b[1;34m\u001b[0m\n\u001b[1;32m----> 1\u001b[1;33m \u001b[0mveglist\u001b[0m\u001b[1;33m\u001b[0m\u001b[1;33m\u001b[0m\u001b[0m\n\u001b[0m",
      "\u001b[1;31mNameError\u001b[0m: name 'veglist' is not defined"
     ]
    }
   ],
   "source": [
    "veglist   #there is no veglist now "
   ]
  },
  {
   "cell_type": "markdown",
   "id": "8e4f913e",
   "metadata": {},
   "source": [
    "# Tuples "
   ]
  },
  {
   "cell_type": "code",
   "execution_count": 141,
   "id": "ace76049",
   "metadata": {},
   "outputs": [],
   "source": [
    "a = (12,34,55,67,78,99,98,0)"
   ]
  },
  {
   "cell_type": "code",
   "execution_count": 142,
   "id": "7077033a",
   "metadata": {},
   "outputs": [],
   "source": [
    "tuple1 = (1,2,3,4,5,6,7,8,9)"
   ]
  },
  {
   "cell_type": "code",
   "execution_count": 144,
   "id": "b5b6b186",
   "metadata": {},
   "outputs": [],
   "source": [
    "tuple2 = (1,'apple' , 90.09 , 'a' , 'b') #gonna accept both homogeneous and hetrogeneous"
   ]
  },
  {
   "cell_type": "code",
   "execution_count": 145,
   "id": "8c18c76e",
   "metadata": {},
   "outputs": [
    {
     "data": {
      "text/plain": [
       "(1, 'apple', 90.09, 'a', 'b')"
      ]
     },
     "execution_count": 145,
     "metadata": {},
     "output_type": "execute_result"
    }
   ],
   "source": [
    "tuple2 #they are ordered also means we can see the indexing "
   ]
  },
  {
   "cell_type": "code",
   "execution_count": 147,
   "id": "75879ce7",
   "metadata": {},
   "outputs": [
    {
     "data": {
      "text/plain": [
       "90.09"
      ]
     },
     "execution_count": 147,
     "metadata": {},
     "output_type": "execute_result"
    }
   ],
   "source": [
    "tuple2[2]"
   ]
  },
  {
   "cell_type": "code",
   "execution_count": 148,
   "id": "1303bb7e",
   "metadata": {},
   "outputs": [
    {
     "data": {
      "text/plain": [
       "2"
      ]
     },
     "execution_count": 148,
     "metadata": {},
     "output_type": "execute_result"
    }
   ],
   "source": [
    "tuple1[1]"
   ]
  },
  {
   "cell_type": "code",
   "execution_count": 149,
   "id": "ec70ee8b",
   "metadata": {},
   "outputs": [
    {
     "ename": "TypeError",
     "evalue": "'type' object does not support item assignment",
     "output_type": "error",
     "traceback": [
      "\u001b[1;31m---------------------------------------------------------------------------\u001b[0m",
      "\u001b[1;31mTypeError\u001b[0m                                 Traceback (most recent call last)",
      "\u001b[1;32m~\\AppData\\Local\\Temp\\ipykernel_8992\\673286503.py\u001b[0m in \u001b[0;36m<module>\u001b[1;34m\u001b[0m\n\u001b[1;32m----> 1\u001b[1;33m \u001b[0mtuple\u001b[0m\u001b[1;33m[\u001b[0m\u001b[1;36m2\u001b[0m\u001b[1;33m]\u001b[0m \u001b[1;33m=\u001b[0m \u001b[1;34m'banana'\u001b[0m\u001b[1;33m\u001b[0m\u001b[1;33m\u001b[0m\u001b[0m\n\u001b[0m",
      "\u001b[1;31mTypeError\u001b[0m: 'type' object does not support item assignment"
     ]
    }
   ],
   "source": [
    "tuple[2] = 'banana' #tuples are immutable "
   ]
  },
  {
   "cell_type": "code",
   "execution_count": 150,
   "id": "1ea93e55",
   "metadata": {},
   "outputs": [
    {
     "data": {
      "text/plain": [
       "90.09"
      ]
     },
     "execution_count": 150,
     "metadata": {},
     "output_type": "execute_result"
    }
   ],
   "source": [
    "tuple2[2]"
   ]
  },
  {
   "cell_type": "code",
   "execution_count": 151,
   "id": "4a654298",
   "metadata": {},
   "outputs": [
    {
     "data": {
      "text/plain": [
       "('apple', 90.09, 'a')"
      ]
     },
     "execution_count": 151,
     "metadata": {},
     "output_type": "execute_result"
    }
   ],
   "source": [
    "tuple2[1:4] #WE CAN also do slicing with tuples "
   ]
  },
  {
   "cell_type": "code",
   "execution_count": 152,
   "id": "267f430f",
   "metadata": {},
   "outputs": [],
   "source": [
    "tuple4 = (1,2,3,4,5,3,2,12,3,4,5,3)"
   ]
  },
  {
   "cell_type": "code",
   "execution_count": 153,
   "id": "b17a32cd",
   "metadata": {},
   "outputs": [
    {
     "data": {
      "text/plain": [
       "2"
      ]
     },
     "execution_count": 153,
     "metadata": {},
     "output_type": "execute_result"
    }
   ],
   "source": [
    "tuple4.count(2)"
   ]
  },
  {
   "cell_type": "code",
   "execution_count": 154,
   "id": "e897546c",
   "metadata": {},
   "outputs": [
    {
     "data": {
      "text/plain": [
       "[45, 44, 26, 98, 94, 56, 16, 22, 56]"
      ]
     },
     "execution_count": 154,
     "metadata": {},
     "output_type": "execute_result"
    }
   ],
   "source": [
    "numlist"
   ]
  },
  {
   "cell_type": "code",
   "execution_count": 155,
   "id": "e02ee9b4",
   "metadata": {},
   "outputs": [
    {
     "data": {
      "text/plain": [
       "1"
      ]
     },
     "execution_count": 155,
     "metadata": {},
     "output_type": "execute_result"
    }
   ],
   "source": [
    "numlist.count(26)"
   ]
  },
  {
   "cell_type": "code",
   "execution_count": 156,
   "id": "2807b268",
   "metadata": {},
   "outputs": [
    {
     "data": {
      "text/plain": [
       "1"
      ]
     },
     "execution_count": 156,
     "metadata": {},
     "output_type": "execute_result"
    }
   ],
   "source": [
    "tuple4.index(2)"
   ]
  },
  {
   "cell_type": "code",
   "execution_count": null,
   "id": "eb183783",
   "metadata": {},
   "outputs": [],
   "source": []
  }
 ],
 "metadata": {
  "kernelspec": {
   "display_name": "Python 3 (ipykernel)",
   "language": "python",
   "name": "python3"
  },
  "language_info": {
   "codemirror_mode": {
    "name": "ipython",
    "version": 3
   },
   "file_extension": ".py",
   "mimetype": "text/x-python",
   "name": "python",
   "nbconvert_exporter": "python",
   "pygments_lexer": "ipython3",
   "version": "3.9.13"
  }
 },
 "nbformat": 4,
 "nbformat_minor": 5
}
